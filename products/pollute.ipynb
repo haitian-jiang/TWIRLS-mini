{
 "cells": [
  {
   "cell_type": "code",
   "execution_count": 1,
   "metadata": {},
   "outputs": [],
   "source": [
    "import random\n",
    "import torch\n",
    "from tqdm import tqdm, trange\n",
    "import sys\n",
    "sys.path.append('../')\n",
    "from model import GNNModel, APPNP\n",
    "from gen_subg import preprocess_ogb_data\n",
    "import dgl\n",
    "import dgl.nn as dglnn\n",
    "import torch.nn as nn\n",
    "import torch.nn.functional as F\n",
    "import pdb\n",
    "import argparse\n",
    "from torch_geometric.seed import seed_everything\n",
    "from ogb.nodeproppred import DglNodePropPredDataset\n",
    "import time\n",
    "import copy"
   ]
  },
  {
   "cell_type": "code",
   "execution_count": 16,
   "metadata": {},
   "outputs": [],
   "source": [
    "@torch.no_grad()\n",
    "def test(model, graph):\n",
    "    model = model.eval()\n",
    "    nodes = graph.split_idx['test']\n",
    "    output = model(graph, graph.ndata['feat'])\n",
    "    labels = graph.ndata['label'][nodes]\n",
    "    correct = (output[nodes].argmax(-1) == labels).sum().item()\n",
    "    total = labels.size(0)\n",
    "    return correct / total"
   ]
  },
  {
   "cell_type": "code",
   "execution_count": 2,
   "metadata": {},
   "outputs": [],
   "source": [
    "seed_everything(123)"
   ]
  },
  {
   "cell_type": "code",
   "execution_count": 3,
   "metadata": {},
   "outputs": [],
   "source": [
    "class object_view:\n",
    "    def __init__(self, d):\n",
    "        self.__dict__ = d"
   ]
  },
  {
   "cell_type": "code",
   "execution_count": 4,
   "metadata": {},
   "outputs": [],
   "source": [
    "args = object_view({'dataset': ''})\n",
    "input_channels = 100"
   ]
  },
  {
   "cell_type": "code",
   "execution_count": 5,
   "metadata": {},
   "outputs": [],
   "source": [
    "output_channels = 47\n",
    "dataset = DglNodePropPredDataset(name=f'ogbn-products', root='/home/ubuntu/dataset')\n",
    "graph = preprocess_ogb_data(dataset, args)\n"
   ]
  },
  {
   "cell_type": "code",
   "execution_count": 6,
   "metadata": {},
   "outputs": [],
   "source": [
    "polluted_idx, _ = torch.load('id-map-0.1.pt')\n",
    "feat = torch.load('feat_100.pt') \n",
    "# graph.ndata['feat'][polluted_idx] = graph.ndata['feat'][mapping]\n",
    "graph.ndata['feat'][polluted_idx] = feat"
   ]
  },
  {
   "cell_type": "code",
   "execution_count": 35,
   "metadata": {},
   "outputs": [],
   "source": [
    "graph.ndata['feat'][polluted_idx] *= 2"
   ]
  },
  {
   "cell_type": "code",
   "execution_count": 36,
   "metadata": {},
   "outputs": [],
   "source": [
    "# model = torch.load('./polluted-gauss.pt') # [4, 0]\n",
    "model = torch.load('./polluted-gauss100.pt') # [1, 0]\n",
    "model = model.to(torch.device('cpu'))\n",
    "model = model.eval()"
   ]
  },
  {
   "cell_type": "code",
   "execution_count": 37,
   "metadata": {},
   "outputs": [],
   "source": [
    "Y = model(graph, graph.ndata['feat']).detach()\n",
    "f = model.mlp_bef(graph.ndata['feat']).detach()"
   ]
  },
  {
   "cell_type": "code",
   "execution_count": 38,
   "metadata": {},
   "outputs": [],
   "source": [
    "diff = torch.norm(Y - f, dim=1)"
   ]
  },
  {
   "cell_type": "code",
   "execution_count": 39,
   "metadata": {},
   "outputs": [],
   "source": [
    "sorted_diff, indices = torch.sort(diff, descending=True)"
   ]
  },
  {
   "cell_type": "code",
   "execution_count": 40,
   "metadata": {},
   "outputs": [
    {
     "name": "stdout",
     "output_type": "stream",
     "text": [
      "1 76.45548015124417\n",
      "2 20.09211848004508\n",
      "3 0.25357081608153464\n",
      "4 0.1996717054168606\n",
      "5 0.1735388032764126\n",
      "6 0.1743554564683016\n",
      "7 0.2078382373357506\n",
      "8 0.2968534352516517\n",
      "9 0.5545075172926313\n",
      "10 1.5920653975876065\n"
     ]
    }
   ],
   "source": [
    "#10*N(0,1)  [1,0]\n",
    "for i in range(1,11):\n",
    "    print(i,len(set(indices[244902*(i-1):244902*i].tolist()).intersection(set(polluted_idx)))/244902*100)\n",
    "# len(set(indices[244902*(i-1):244902*i].tolist()).intersection(set(polluted_idx)))/244902*100"
   ]
  },
  {
   "cell_type": "code",
   "execution_count": 45,
   "metadata": {},
   "outputs": [
    {
     "data": {
      "text/plain": [
       "95.63866362871678"
      ]
     },
     "execution_count": 45,
     "metadata": {},
     "output_type": "execute_result"
    }
   ],
   "source": [
    "len(set(indices[244902*0:int(244902*1.4)].tolist()).intersection(set(polluted_idx)))/244902*100"
   ]
  },
  {
   "cell_type": "code",
   "execution_count": 30,
   "metadata": {},
   "outputs": [
    {
     "name": "stdout",
     "output_type": "stream",
     "text": [
      "1 65.32490547239304\n",
      "2 30.225967938195687\n",
      "3 1.0069333855991376\n",
      "4 0.1898718671141926\n",
      "5 0.1694555373169676\n",
      "6 0.1947717862655266\n",
      "7 0.22294632138569714\n",
      "8 0.3001200480192077\n",
      "9 0.6165731598761954\n",
      "10 1.74845448383435\n"
     ]
    }
   ],
   "source": [
    "#5*N(0,1)  [1,0]\n",
    "for i in range(1,11):\n",
    "    print(i,len(set(indices[244902*(i-1):244902*i].tolist()).intersection(set(polluted_idx)))/244902*100)\n",
    "# len(set(indices[244902*(i-1):244902*i].tolist()).intersection(set(polluted_idx)))/244902*100"
   ]
  },
  {
   "cell_type": "code",
   "execution_count": 34,
   "metadata": {},
   "outputs": [
    {
     "data": {
      "text/plain": [
       "72.47102922801774"
      ]
     },
     "execution_count": 34,
     "metadata": {},
     "output_type": "execute_result"
    }
   ],
   "source": [
    "len(set(indices[244902*0:int(244902*1.1)].tolist()).intersection(set(polluted_idx)))/244902*100"
   ]
  },
  {
   "cell_type": "code",
   "execution_count": 11,
   "metadata": {},
   "outputs": [
    {
     "name": "stdout",
     "output_type": "stream",
     "text": [
      "1 80.89113196298928\n",
      "2 16.64870029644511\n",
      "3 0.4940751810928453\n",
      "4 0.35891907783521576\n",
      "5 0.27725375864631563\n",
      "6 0.23478779266808766\n",
      "7 0.1772137426399131\n",
      "8 0.18456362136691412\n",
      "9 0.20824656393169513\n",
      "10 0.5251080023846273\n"
     ]
    }
   ],
   "source": [
    "#100*N(0,1)  [1,0]\n",
    "for i in range(1,11):\n",
    "    print(i,len(set(indices[244902*(i-1):244902*i].tolist()).intersection(set(polluted_idx)))/244902*100)\n",
    "# len(set(indices[244902*(i-1):244902*i].tolist()).intersection(set(polluted_idx)))/244902*100"
   ]
  },
  {
   "cell_type": "code",
   "execution_count": 25,
   "metadata": {},
   "outputs": [
    {
     "data": {
      "text/plain": [
       "96.17969636834326"
      ]
     },
     "execution_count": 25,
     "metadata": {},
     "output_type": "execute_result"
    }
   ],
   "source": [
    "len(set(indices[244902*0:int(244902*1.2)].tolist()).intersection(set(polluted_idx)))/244902*100"
   ]
  },
  {
   "cell_type": "code",
   "execution_count": 54,
   "metadata": {},
   "outputs": [
    {
     "name": "stdout",
     "output_type": "stream",
     "text": [
      "1 62.53848478166777\n",
      "2 28.69065993744437\n",
      "3 5.896644372034529\n",
      "4 1.6990469657250655\n",
      "5 0.6320895705220864\n",
      "6 0.2846036373733167\n",
      "7 0.1359727564495186\n",
      "8 0.06859886811867605\n",
      "9 0.034299434059338024\n",
      "10 0.01959967660533601\n"
     ]
    }
   ],
   "source": [
    "#5*N(0,1)  [4,0]\n",
    "for i in range(1,11):\n",
    "    print(i,len(set(indices[244902*(i-1):244902*i].tolist()).intersection(set(polluted_idx)))/244902*100)\n",
    "# len(set(indices[244902*(i-1):244902*i].tolist()).intersection(set(polluted_idx)))/244902*100"
   ]
  },
  {
   "cell_type": "code",
   "execution_count": 41,
   "metadata": {},
   "outputs": [
    {
     "name": "stdout",
     "output_type": "stream",
     "text": [
      "1 76.45548015124417\n",
      "2 20.09211848004508\n",
      "3 0.25357081608153464\n",
      "4 0.1996717054168606\n",
      "5 0.1735388032764126\n",
      "6 0.1743554564683016\n",
      "7 0.2078382373357506\n",
      "8 0.2968534352516517\n",
      "9 0.5545075172926313\n",
      "10 1.5920653975876065\n"
     ]
    }
   ],
   "source": [
    "#10*N(0,1)  [4,0]\n",
    "for i in range(1,11):\n",
    "    print(i,len(set(indices[244902*(i-1):244902*i].tolist()).intersection(set(polluted_idx)))/244902*100)\n",
    "# len(set(indices[244902*(i-1):244902*i].tolist()).intersection(set(polluted_idx)))/244902*100"
   ]
  },
  {
   "cell_type": "code",
   "execution_count": null,
   "metadata": {},
   "outputs": [],
   "source": []
  }
 ],
 "metadata": {
  "kernelspec": {
   "display_name": "pytorch",
   "language": "python",
   "name": "python3"
  },
  "language_info": {
   "codemirror_mode": {
    "name": "ipython",
    "version": 3
   },
   "file_extension": ".py",
   "mimetype": "text/x-python",
   "name": "python",
   "nbconvert_exporter": "python",
   "pygments_lexer": "ipython3",
   "version": "3.9.17"
  }
 },
 "nbformat": 4,
 "nbformat_minor": 2
}
